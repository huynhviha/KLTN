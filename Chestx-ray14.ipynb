{
 "cells": [
  {
   "cell_type": "markdown",
   "metadata": {},
   "source": [
    "# Phát hiện bệnh lý qua ảnh chụp X-quang vùng ngực."
   ]
  },
  {
   "cell_type": "markdown",
   "metadata": {},
   "source": [
    "Bài toán phát hiện bệnh lý trên ảnh chụp X-quang vùng ngực sử dụng deep learning.  \n",
    "* **Đầu vào:** một ảnh chụp X-quang vùng ngực.\n",
    "* **Đầu ra:** kết quả bệnh nhân có mắc bệnh hay không.\n",
    "  \n",
    "Để thực hiện bài toán trên, cần tìm hiểu các kiến thức liên quan như **bộ dữ liệu Chest X-ray 14** và **các mô hình deep learning**. Các nội dung này sẽ đuược trình bày trong phần sau.  "
   ]
  },
  {
   "cell_type": "markdown",
   "metadata": {},
   "source": [
    "Bảng so sánh giữa các phương pháp dựa trên AUROC của mỗi bệnh lý."
   ]
  },
  {
   "cell_type": "markdown",
   "metadata": {},
   "source": [
    "|     Pathology      | Tên bệnh | [Wang et al.](https://arxiv.org/abs/1705.02315) | [Yao et al.](https://arxiv.org/abs/1710.10501) | [CheXNet](https://arxiv.org/abs/1711.05225) |\n",
    "| :----------------: | :--------------------------------------: | :--------------------------------------: | :--------------------------------------: | :--------------------------------------: |\n",
    "|    Atelectasis     |   Chứng xẹp phổi     |                0.716                   |                  0.772                   |                  0.8094                | \n",
    "|    Cardiomegaly    |   Chứng tim to       |                0.807                   |                  0.904                   |                  0.9248                  |\n",
    "|      Effusion      |   Tràn dịch phổi     |                0.784                   |                  0.859                   |                  0.8638                  |\n",
    "|    Infiltration    |   Thâm nhiễm         |                0.609                   |                  0.695                   |                  0.7345                  |\n",
    "|        Mass        |   Hạch phổi (lớn)    |                0.706                   |                  0.792                   |                  0.8676                  |\n",
    "|       Nodule       |   Hạch phổi (nhỏ)    |                0.671                   |                  0.717                   |                  0.7802                  |\n",
    "|     Pneumonia      |   Viêm phổi          |                0.633                   |                  0.713                   |                  0.7680                  |\n",
    "|    Pneumothorax    |   Tràn khí màng phổi |                0.806                   |                  0.841                   |                  0.8887                  |\n",
    "|   Consolidation    |   Phổi đông đặc      |                0.708                   |                  0.788                   |                  0.7901                  |\n",
    "|       Edema        |   Phù phổi           |                0.835                   |                  0.882                   |                  0.8878                  |\n",
    "|     Emphysema      |   Khí thủng          |                0.815                   |                  0.829                   |                  0.9371                  |\n",
    "|      Fibrosis      |   Xơ phổi            |                0.769                   |                  0.767                   |                  0.8047                  |\n",
    "| Pleural Thickening |   Dày màng phổi      |                0.708                   |                  0.765                   |                  0.8062                  |\n",
    "|       Hernia       |   Thoát vị           |                0.767                   |                  0.914                   |                  0.9164                  |\n",
    "\n"
   ]
  },
  {
   "cell_type": "markdown",
   "metadata": {},
   "source": [
    "### 1. Dataset Chest X-ray 14"
   ]
  },
  {
   "cell_type": "markdown",
   "metadata": {},
   "source": [
    "#### 1.1 Giới thiệu"
   ]
  },
  {
   "cell_type": "markdown",
   "metadata": {},
   "source": [
    "Dataset Chest X-ray 14 là dataset về ảnh chụp X-quang vùng ngực, đuược giới thiệu trong bài báo [ChestX-ray8: Hospital-scale Chest X-ray Database and Benchmarks on Weakly-Supervised Classification and Localization of Common Thorax Diseases](http://openaccess.thecvf.com/content_cvpr_2017/papers/Wang_ChestX-ray8_Hospital-Scale_Chest_CVPR_2017_paper.pdf).  \n",
    "Ban đầu, dataset được gán nhãn với 8 loại bệnh lý vùng ngực khác nhau. Sau, dataset được tác giả mở rộng thêm 6 loại bệnh lý khác, thành tổng cộng có 14 loại bệnh lý vùng ngực được được gán nhãn trong dataset.   \n",
    "Dataset gồm 112,120 ảnh với 30,805 bệnh nhân.  \n",
    "Mỗi ảnh chụp X-quang có thể được gán một hoặc nhiều nhãn, tương ứng với một hoặc nhiều bệnh lý. Trường hợp không có bệnh lý ảnh được gán nhãn “No Finding”.  \n",
    "Nhãn của ảnh được gán bằng cách sử dụng xử lý ngôn ngữ tự nhiên (NLP), khai thác thông tin từ  báo cáo đính kèm với mỗi ảnh X-quang."
   ]
  },
  {
   "cell_type": "markdown",
   "metadata": {},
   "source": [
    "#### 1.2 Xây dựng dataset"
   ]
  },
  {
   "cell_type": "markdown",
   "metadata": {},
   "source": [
    "Ảnh X-quang là một trong những phương pháp phổ biến nhất trong việc xem xét và chuẩn đooán các bệnh về phổi. Do đó, một số lượng lớn ảnh X-quang được tích lũy và lưu trữ trong *Picture Archiving and Communication Systems* (PACS).\n",
    "Vấn đề đặt ra là làm sao để những dữ liệu về ảnh X-quang trên có thể được sử dụng trong các mô hình deep learning trong việc xây dựng hệ thống *computer-aided diagnosis* (CAD).  \n",
    "Để giải quyết câu hỏi trên, nhóm tác giả xây dựng dataset Chest X-ray 8, với nhãn của ảnh được khai thác từ các báo cáo đính kèm, bằng cách sử dụng xử lý ngôn ngữ tự nhiên (NLP).  \n",
    "Đầu tiên, liệt kê ra danh sách 8 keywords về các bệnh ở phổi thuờng được xem xét và chuẩn đoán (Ateletasis, Cardiomegaly, Effusion, Infiltration, Mass, Nodule, Pneumonia, Pneumothroax).   \n",
    "Tìm kiếm trên hệ thống PACS để tìm ra các báo cáo có liên quan cùng với ảnh. Sau đó dụng NLP để phát hiện ra các keywords và gán nhãn."
   ]
  },
  {
   "cell_type": "markdown",
   "metadata": {},
   "source": [
    "**2.1 Gán nhãn bằng Text Mining**  \n",
    "Đầu tiên, liệt kê ra danh sách 8 keywords về các bệnh ở phổi thuờng được xem xét và chuẩn đoán (Ateletasis, Cardiomegaly, Effusion, Infiltration, Mass, Nodule, Pneumonia, Pneumothroax).   \n",
    "Tìm kiếm trên hệ thống PACS để tìm ra các báo cáo có liên quan cùng với ảnh. Sau đó dụng NLP để phát hiện ra các keywords và gán nhãn."
   ]
  },
  {
   "cell_type": "markdown",
   "metadata": {},
   "source": [
    "**Gán nhãn bệnh bằng kỹ thuật Text Mining**  \n",
    "Phát hiện các bệnh có trong nội dung báo cáo.  \n",
    "Phần thân của báo cáo thường có cấu trúc chung gồm các phần: \"Comparison\", \"Indication\", \"Findings\", \"Impression\". Ở đây cần tập trung vào phần \"Findings\" và phần \"Impression\" để khai thác. Tuy nhiên, nếu báo cáo không có hai phần này thì toàn bộ báo cáo sẽ được sử dụng để khai thác thông tin.\n",
    "Nếu không tìm thấy bất cứ nội dung về bệnh trong báo cáo (không chỉ giới hạn trong trong 8 bệnh) thì báo cáo được đánh dấu là \"Normal\".  \n",
    "\n",
    "Hai công cụ được sử dụng để khai thác thông tin trong báo cáo là DNorm và MetaMap. Đây là công cụ để phát hiện các thuật ngữ y khoa trong các văn bản và chuyển các từ phát hiện được thành các ID tương ứng với các thuật ngữ đó."
   ]
  },
  {
   "cell_type": "markdown",
   "metadata": {},
   "source": [
    "**Negation and Uncertainty**  \n",
    "Việc phát hiện các keywords về bệnh trong báo cáo không đồng nghĩa với việc có sự xuất hiện của bệnh đó trên ảnh.  \n",
    "*Ví dụ:* \"suggesting obstructive lung disease\". Trong câu trên, các kỹ thuật có thể phát hiện ra từ \"lung disease\"; tuy nhiên, thực tế câu trên chỉ là **sự nghi ngờ, không chắc chắn** là có bệnh, chứ không phải là một câu **khẳng định** có bệnh.  \n",
    "Vì thế việc loại bỏ những trường hợp negation/uncertainty gây nhiễu như trên là cần thiết.\n",
    "\n",
    "Mặc dù có rất nhiều kỹ thuật NLP được sử dụng để xử lý vấn đề trên, hầu hết chúng đều sử dụng biếu thức chính quy (regular expressions). Một trong những khuyết điểm của việc sử dụng biểu thức chính quy để phát hiện negetion/uncertainty là chúng không thể nắm bắt được các cấu trúc câu cho nhiều đối tượng.    \n",
    "*Ví dụ:* \"clear of A and B\". Đối với con người, dễ dàng thấy câu này có nghĩa là \"không có cả A lẫn B\"; tuy nhiên, các biểu thức chính quy chỉ có thể hiểu là \"không có A\" và \"có B\".  \n",
    "Để giải quyết vấn đề trên, nhóm tác giả đã đặt ra một số luật để phát negation/uncertainty bằng cách sử dụng thông tin syntactic depenpency vì chúng khá giống với semantic relationship giữa các từ. Các luật được định nghĩa trên dependency graph, sử dụng dependency label và direction information để thể hiện quan hệ giữa các từ trong câu.\n",
    "*Ví dụ: \"clear of focal airspace disease, pneumothorax, or pleural effusion\"*  \n",
    "Ta có thể sử dụng luật \"clear -> prep_of -> DISEASE\" để phát hiện ba negation trong câu trên <neg, focal airspace disease>, <neg, pneumothorax> và <neg, pleural effusion>.  \n",
    "Trong dependency graph bên dưới, có các dependency label nối giữa các từ (prep_of, conj_or) và direcion information (là hướng các mũi tên giữa các từ và các dependency label)."
   ]
  },
  {
   "cell_type": "markdown",
   "metadata": {},
   "source": [
    "![alt](dependency-graph.jpg)"
   ]
  },
  {
   "cell_type": "markdown",
   "metadata": {},
   "source": [
    "Một số luật để giải quyết vấn đề negation/uncertainty và các ví dụ tương ứng."
   ]
  },
  {
   "cell_type": "markdown",
   "metadata": {},
   "source": [
    "![alt](negation-uncertainty-rules.jpg)"
   ]
  },
  {
   "cell_type": "markdown",
   "metadata": {},
   "source": [
    "**Đánh giá**  \n",
    "Để đánh giá phương pháp gán nhãn (như trình bày ở trên) một các khách quan, tác giả sử dụng một tập các báo cáo khác được gán nhãn bởi con người. Cụ thể, 3,851 báo cáo ảnh X-quang được lấy từ [OpenI](https://openi.nlm.nih.gov/), mỗi báo cáo đợc gán nhãn bởi con người. Sau đó, chỉ tập trung vào 8 bệnh cần phát hiện, một tập con các báo cáo được chọn ra và được sử dụng như tiêu chuẩn để đánh giá phương pháp gán nhãn.  \n",
    "Bảng sau tóm tắt các phân tích của tập con trong OpenI và Chest X-ray 8.\n",
    "*đưa cái bảng dô*\n",
    "\n",
    "So sánh phương pháp gán nhãn trong bài báo với MetaMap (có sử dụng NegEx).\n",
    "* Precision, Recall, F1-score trung bình cao hơn so với MetaMap.\n",
    "* Đối với hai bệnh *Pneumothorax* và *Infiltration* precision cao hơn hẳn so với sử dụng MetaMap. Điều này cho thấy việc phát hiện negation/uncertainty đã thành công trong việc loại bỏ các trường hợp false positive case."
   ]
  },
  {
   "cell_type": "markdown",
   "metadata": {},
   "source": [
    "**Bounding box**  \n",
    "Một số lượng nhỏ ảnh X-quang trong dataset sẽ được gán bounding boxes, được sử dụng như groud-truth trong các bài toán localization.  \n",
    "Đầu tiên mỗi bệnh chọn ra 200 trường hợp (tổng cộng 1,600 trường hợp), bao gồm 983 ảnh.  \n",
    "Cho trước một ảnh và tên bệnh, các chuyên gia sẽ xác định bệnh tương ứng trong ảnh và gán bounding box cho bệnh đó. Một ảnh có thể có nhiều bounding boxes."
   ]
  },
  {
   "cell_type": "code",
   "execution_count": null,
   "metadata": {},
   "outputs": [],
   "source": []
  },
  {
   "cell_type": "markdown",
   "metadata": {},
   "source": [
    " #### 1.3 Một số thống kê và nhận xét"
   ]
  },
  {
   "cell_type": "code",
   "execution_count": 1,
   "metadata": {},
   "outputs": [],
   "source": [
    "import numpy as np # linear algebra\n",
    "import pandas as pd # data processing, CSV file I/O (e.g. pd.read_csv)\n",
    "import matplotlib.pyplot as plt\n",
    "import seaborn as sns\n",
    "import matplotlib.gridspec as gridspec\n",
    "import matplotlib.ticker as ticker\n",
    "sns.set_style('whitegrid')"
   ]
  },
  {
   "cell_type": "code",
   "execution_count": 2,
   "metadata": {},
   "outputs": [],
   "source": [
    "%matplotlib inline"
   ]
  },
  {
   "cell_type": "markdown",
   "metadata": {},
   "source": [
    "**Các thông tin của một ảnh:**\n",
    "* Image Index: Tên ảnh\n",
    "* Finding Labels: Nhãn một hoặc nhiều bệnh trong ảnh (Cardiomegaly, Emphysema, Effusion, Hernia, Nodule, Pneumothorax, Atelectasis, Pleural Thickening, Mass, Edema, Consolidation, Infiltration, Fibrosis, Pneumonia). Nếu ảnh không chứa bệnh thì nhãn là \"No Finding\".\n",
    "* Follow up #: ảnh thứ n của bệnh nhân. Ví dụ Follow up number = 17 thì đó là ảnh thứ 17 của bệnh nhân trong dataset.\n",
    "* Patient ID: mã bệnh nhân.\n",
    "* Patient Age: tuổi của bệnh nhân.\n",
    "* Patient Gender: giới tính của bệnh nhân.\n",
    "* View position: vị trí chụp ảnh. (AP: anteriorposterior – bệnh nhân đứng đối diện với máy chụp X-quang; PA: posterioranterior – bệnh nhân đứng quay lưng về phía máy chụp X-quang: chiếm 60%)\n",
    "* Width/ Height: kích thước ảnh."
   ]
  },
  {
   "cell_type": "code",
   "execution_count": 3,
   "metadata": {},
   "outputs": [
    {
     "data": {
      "text/html": [
       "<div>\n",
       "<style scoped>\n",
       "    .dataframe tbody tr th:only-of-type {\n",
       "        vertical-align: middle;\n",
       "    }\n",
       "\n",
       "    .dataframe tbody tr th {\n",
       "        vertical-align: top;\n",
       "    }\n",
       "\n",
       "    .dataframe thead th {\n",
       "        text-align: right;\n",
       "    }\n",
       "</style>\n",
       "<table border=\"1\" class=\"dataframe\">\n",
       "  <thead>\n",
       "    <tr style=\"text-align: right;\">\n",
       "      <th></th>\n",
       "      <th>Image Index</th>\n",
       "      <th>Finding Labels</th>\n",
       "      <th>Follow-up #</th>\n",
       "      <th>Patient ID</th>\n",
       "      <th>Patient Age</th>\n",
       "      <th>Patient Gender</th>\n",
       "      <th>View Position</th>\n",
       "      <th>OriginalImage[Width</th>\n",
       "      <th>Height]</th>\n",
       "      <th>OriginalImagePixelSpacing[x</th>\n",
       "      <th>y]</th>\n",
       "      <th>Unnamed: 11</th>\n",
       "    </tr>\n",
       "  </thead>\n",
       "  <tbody>\n",
       "    <tr>\n",
       "      <th>0</th>\n",
       "      <td>00000001_000.png</td>\n",
       "      <td>Cardiomegaly</td>\n",
       "      <td>0</td>\n",
       "      <td>1</td>\n",
       "      <td>58</td>\n",
       "      <td>M</td>\n",
       "      <td>PA</td>\n",
       "      <td>2682</td>\n",
       "      <td>2749</td>\n",
       "      <td>0.143</td>\n",
       "      <td>0.143</td>\n",
       "      <td>NaN</td>\n",
       "    </tr>\n",
       "    <tr>\n",
       "      <th>1</th>\n",
       "      <td>00000001_001.png</td>\n",
       "      <td>Cardiomegaly|Emphysema</td>\n",
       "      <td>1</td>\n",
       "      <td>1</td>\n",
       "      <td>58</td>\n",
       "      <td>M</td>\n",
       "      <td>PA</td>\n",
       "      <td>2894</td>\n",
       "      <td>2729</td>\n",
       "      <td>0.143</td>\n",
       "      <td>0.143</td>\n",
       "      <td>NaN</td>\n",
       "    </tr>\n",
       "    <tr>\n",
       "      <th>2</th>\n",
       "      <td>00000001_002.png</td>\n",
       "      <td>Cardiomegaly|Effusion</td>\n",
       "      <td>2</td>\n",
       "      <td>1</td>\n",
       "      <td>58</td>\n",
       "      <td>M</td>\n",
       "      <td>PA</td>\n",
       "      <td>2500</td>\n",
       "      <td>2048</td>\n",
       "      <td>0.168</td>\n",
       "      <td>0.168</td>\n",
       "      <td>NaN</td>\n",
       "    </tr>\n",
       "    <tr>\n",
       "      <th>3</th>\n",
       "      <td>00000002_000.png</td>\n",
       "      <td>No Finding</td>\n",
       "      <td>0</td>\n",
       "      <td>2</td>\n",
       "      <td>81</td>\n",
       "      <td>M</td>\n",
       "      <td>PA</td>\n",
       "      <td>2500</td>\n",
       "      <td>2048</td>\n",
       "      <td>0.171</td>\n",
       "      <td>0.171</td>\n",
       "      <td>NaN</td>\n",
       "    </tr>\n",
       "    <tr>\n",
       "      <th>4</th>\n",
       "      <td>00000003_000.png</td>\n",
       "      <td>Hernia</td>\n",
       "      <td>0</td>\n",
       "      <td>3</td>\n",
       "      <td>81</td>\n",
       "      <td>F</td>\n",
       "      <td>PA</td>\n",
       "      <td>2582</td>\n",
       "      <td>2991</td>\n",
       "      <td>0.143</td>\n",
       "      <td>0.143</td>\n",
       "      <td>NaN</td>\n",
       "    </tr>\n",
       "  </tbody>\n",
       "</table>\n",
       "</div>"
      ],
      "text/plain": [
       "        Image Index          Finding Labels  Follow-up #  Patient ID  \\\n",
       "0  00000001_000.png            Cardiomegaly            0           1   \n",
       "1  00000001_001.png  Cardiomegaly|Emphysema            1           1   \n",
       "2  00000001_002.png   Cardiomegaly|Effusion            2           1   \n",
       "3  00000002_000.png              No Finding            0           2   \n",
       "4  00000003_000.png                  Hernia            0           3   \n",
       "\n",
       "   Patient Age Patient Gender View Position  OriginalImage[Width  Height]  \\\n",
       "0           58              M            PA                 2682     2749   \n",
       "1           58              M            PA                 2894     2729   \n",
       "2           58              M            PA                 2500     2048   \n",
       "3           81              M            PA                 2500     2048   \n",
       "4           81              F            PA                 2582     2991   \n",
       "\n",
       "   OriginalImagePixelSpacing[x     y]  Unnamed: 11  \n",
       "0                        0.143  0.143          NaN  \n",
       "1                        0.143  0.143          NaN  \n",
       "2                        0.168  0.168          NaN  \n",
       "3                        0.171  0.171          NaN  \n",
       "4                        0.143  0.143          NaN  "
      ]
     },
     "execution_count": 3,
     "metadata": {},
     "output_type": "execute_result"
    }
   ],
   "source": [
    "df = pd.read_csv('Data_Entry_2017.csv')\n",
    "df.head()"
   ]
  },
  {
   "cell_type": "markdown",
   "metadata": {},
   "source": [
    "**Một số thông kê đơn giản.**\n",
    "* Số lượng ảnh trong dataset: 112,120\n",
    "* Số bệnh nhân: 30805\n",
    "* Độ tuổi trung bình bệnh nhân: 46.9. Tuy nhiên, độ tuổi lớn nhất là 414??? Cho thấy một vài lỗi về độ tuổi trong dataset.\n"
   ]
  },
  {
   "cell_type": "code",
   "execution_count": 4,
   "metadata": {
    "scrolled": true
   },
   "outputs": [
    {
     "data": {
      "text/html": [
       "<div>\n",
       "<style scoped>\n",
       "    .dataframe tbody tr th:only-of-type {\n",
       "        vertical-align: middle;\n",
       "    }\n",
       "\n",
       "    .dataframe tbody tr th {\n",
       "        vertical-align: top;\n",
       "    }\n",
       "\n",
       "    .dataframe thead th {\n",
       "        text-align: right;\n",
       "    }\n",
       "</style>\n",
       "<table border=\"1\" class=\"dataframe\">\n",
       "  <thead>\n",
       "    <tr style=\"text-align: right;\">\n",
       "      <th></th>\n",
       "      <th>Follow-up #</th>\n",
       "      <th>Patient ID</th>\n",
       "      <th>Patient Age</th>\n",
       "      <th>OriginalImage[Width</th>\n",
       "      <th>Height]</th>\n",
       "      <th>OriginalImagePixelSpacing[x</th>\n",
       "      <th>y]</th>\n",
       "      <th>Unnamed: 11</th>\n",
       "    </tr>\n",
       "  </thead>\n",
       "  <tbody>\n",
       "    <tr>\n",
       "      <th>count</th>\n",
       "      <td>112120.000000</td>\n",
       "      <td>112120.000000</td>\n",
       "      <td>112120.000000</td>\n",
       "      <td>112120.000000</td>\n",
       "      <td>112120.000000</td>\n",
       "      <td>112120.000000</td>\n",
       "      <td>112120.000000</td>\n",
       "      <td>0.0</td>\n",
       "    </tr>\n",
       "    <tr>\n",
       "      <th>mean</th>\n",
       "      <td>8.573751</td>\n",
       "      <td>14346.381743</td>\n",
       "      <td>46.901463</td>\n",
       "      <td>2646.078844</td>\n",
       "      <td>2486.438842</td>\n",
       "      <td>0.155649</td>\n",
       "      <td>0.155649</td>\n",
       "      <td>NaN</td>\n",
       "    </tr>\n",
       "    <tr>\n",
       "      <th>std</th>\n",
       "      <td>15.406320</td>\n",
       "      <td>8403.876972</td>\n",
       "      <td>16.839923</td>\n",
       "      <td>341.246429</td>\n",
       "      <td>401.268227</td>\n",
       "      <td>0.016174</td>\n",
       "      <td>0.016174</td>\n",
       "      <td>NaN</td>\n",
       "    </tr>\n",
       "    <tr>\n",
       "      <th>min</th>\n",
       "      <td>0.000000</td>\n",
       "      <td>1.000000</td>\n",
       "      <td>1.000000</td>\n",
       "      <td>1143.000000</td>\n",
       "      <td>966.000000</td>\n",
       "      <td>0.115000</td>\n",
       "      <td>0.115000</td>\n",
       "      <td>NaN</td>\n",
       "    </tr>\n",
       "    <tr>\n",
       "      <th>25%</th>\n",
       "      <td>0.000000</td>\n",
       "      <td>7310.750000</td>\n",
       "      <td>35.000000</td>\n",
       "      <td>2500.000000</td>\n",
       "      <td>2048.000000</td>\n",
       "      <td>0.143000</td>\n",
       "      <td>0.143000</td>\n",
       "      <td>NaN</td>\n",
       "    </tr>\n",
       "    <tr>\n",
       "      <th>50%</th>\n",
       "      <td>3.000000</td>\n",
       "      <td>13993.000000</td>\n",
       "      <td>49.000000</td>\n",
       "      <td>2518.000000</td>\n",
       "      <td>2544.000000</td>\n",
       "      <td>0.143000</td>\n",
       "      <td>0.143000</td>\n",
       "      <td>NaN</td>\n",
       "    </tr>\n",
       "    <tr>\n",
       "      <th>75%</th>\n",
       "      <td>10.000000</td>\n",
       "      <td>20673.000000</td>\n",
       "      <td>59.000000</td>\n",
       "      <td>2992.000000</td>\n",
       "      <td>2991.000000</td>\n",
       "      <td>0.168000</td>\n",
       "      <td>0.168000</td>\n",
       "      <td>NaN</td>\n",
       "    </tr>\n",
       "    <tr>\n",
       "      <th>max</th>\n",
       "      <td>183.000000</td>\n",
       "      <td>30805.000000</td>\n",
       "      <td>414.000000</td>\n",
       "      <td>3827.000000</td>\n",
       "      <td>4715.000000</td>\n",
       "      <td>0.198800</td>\n",
       "      <td>0.198800</td>\n",
       "      <td>NaN</td>\n",
       "    </tr>\n",
       "  </tbody>\n",
       "</table>\n",
       "</div>"
      ],
      "text/plain": [
       "         Follow-up #     Patient ID    Patient Age  OriginalImage[Width  \\\n",
       "count  112120.000000  112120.000000  112120.000000        112120.000000   \n",
       "mean        8.573751   14346.381743      46.901463          2646.078844   \n",
       "std        15.406320    8403.876972      16.839923           341.246429   \n",
       "min         0.000000       1.000000       1.000000          1143.000000   \n",
       "25%         0.000000    7310.750000      35.000000          2500.000000   \n",
       "50%         3.000000   13993.000000      49.000000          2518.000000   \n",
       "75%        10.000000   20673.000000      59.000000          2992.000000   \n",
       "max       183.000000   30805.000000     414.000000          3827.000000   \n",
       "\n",
       "             Height]  OriginalImagePixelSpacing[x             y]  Unnamed: 11  \n",
       "count  112120.000000                112120.000000  112120.000000          0.0  \n",
       "mean     2486.438842                     0.155649       0.155649          NaN  \n",
       "std       401.268227                     0.016174       0.016174          NaN  \n",
       "min       966.000000                     0.115000       0.115000          NaN  \n",
       "25%      2048.000000                     0.143000       0.143000          NaN  \n",
       "50%      2544.000000                     0.143000       0.143000          NaN  \n",
       "75%      2991.000000                     0.168000       0.168000          NaN  \n",
       "max      4715.000000                     0.198800       0.198800          NaN  "
      ]
     },
     "execution_count": 4,
     "metadata": {},
     "output_type": "execute_result"
    }
   ],
   "source": [
    "df.describe()"
   ]
  },
  {
   "cell_type": "code",
   "execution_count": 27,
   "metadata": {},
   "outputs": [],
   "source": [
    "df = df[['Image Index','Finding Labels','Follow-up #','Patient ID','Patient Age','Patient Gender']]\n",
    "\n",
    "#create new columns for each decease\n",
    "pathology_list = ['Cardiomegaly','Emphysema','Effusion','Hernia','Nodule','Pneumothorax','Atelectasis','Pleural_Thickening','Mass','Edema','Consolidation','Infiltration','Fibrosis','Pneumonia', 'No Finding']\n",
    "\n",
    "for pathology in pathology_list :\n",
    "    df[pathology] = df['Finding Labels'].apply(lambda x: 1 if pathology in x else 0)"
   ]
  },
  {
   "cell_type": "markdown",
   "metadata": {},
   "source": [
    "Sắp xếp theo tuổi bệnh nhân và liệt kê top 20 để xem xét.\n",
    "Có 16 bệnh nhân trên 100 tuổi???"
   ]
  },
  {
   "cell_type": "code",
   "execution_count": 12,
   "metadata": {},
   "outputs": [
    {
     "data": {
      "text/html": [
       "<div>\n",
       "<style scoped>\n",
       "    .dataframe tbody tr th:only-of-type {\n",
       "        vertical-align: middle;\n",
       "    }\n",
       "\n",
       "    .dataframe tbody tr th {\n",
       "        vertical-align: top;\n",
       "    }\n",
       "\n",
       "    .dataframe thead th {\n",
       "        text-align: right;\n",
       "    }\n",
       "</style>\n",
       "<table border=\"1\" class=\"dataframe\">\n",
       "  <thead>\n",
       "    <tr style=\"text-align: right;\">\n",
       "      <th></th>\n",
       "      <th>Image Index</th>\n",
       "      <th>Patient ID</th>\n",
       "      <th>Patient Age</th>\n",
       "    </tr>\n",
       "  </thead>\n",
       "  <tbody>\n",
       "    <tr>\n",
       "      <th>46965</th>\n",
       "      <td>00011973_002.png</td>\n",
       "      <td>11973</td>\n",
       "      <td>414</td>\n",
       "    </tr>\n",
       "    <tr>\n",
       "      <th>86264</th>\n",
       "      <td>00021275_003.png</td>\n",
       "      <td>21275</td>\n",
       "      <td>413</td>\n",
       "    </tr>\n",
       "    <tr>\n",
       "      <th>91369</th>\n",
       "      <td>00022811_000.png</td>\n",
       "      <td>22811</td>\n",
       "      <td>412</td>\n",
       "    </tr>\n",
       "    <tr>\n",
       "      <th>85404</th>\n",
       "      <td>00021047_002.png</td>\n",
       "      <td>21047</td>\n",
       "      <td>412</td>\n",
       "    </tr>\n",
       "    <tr>\n",
       "      <th>20852</th>\n",
       "      <td>00005567_000.png</td>\n",
       "      <td>5567</td>\n",
       "      <td>412</td>\n",
       "    </tr>\n",
       "    <tr>\n",
       "      <th>84810</th>\n",
       "      <td>00020900_002.png</td>\n",
       "      <td>20900</td>\n",
       "      <td>411</td>\n",
       "    </tr>\n",
       "    <tr>\n",
       "      <th>101194</th>\n",
       "      <td>00026871_000.png</td>\n",
       "      <td>26871</td>\n",
       "      <td>155</td>\n",
       "    </tr>\n",
       "    <tr>\n",
       "      <th>104590</th>\n",
       "      <td>00027989_000.png</td>\n",
       "      <td>27989</td>\n",
       "      <td>155</td>\n",
       "    </tr>\n",
       "    <tr>\n",
       "      <th>98495</th>\n",
       "      <td>00026028_001.png</td>\n",
       "      <td>26028</td>\n",
       "      <td>154</td>\n",
       "    </tr>\n",
       "    <tr>\n",
       "      <th>95794</th>\n",
       "      <td>00025206_000.png</td>\n",
       "      <td>25206</td>\n",
       "      <td>153</td>\n",
       "    </tr>\n",
       "    <tr>\n",
       "      <th>74884</th>\n",
       "      <td>00018366_044.png</td>\n",
       "      <td>18366</td>\n",
       "      <td>152</td>\n",
       "    </tr>\n",
       "    <tr>\n",
       "      <th>78795</th>\n",
       "      <td>00019346_000.png</td>\n",
       "      <td>19346</td>\n",
       "      <td>151</td>\n",
       "    </tr>\n",
       "    <tr>\n",
       "      <th>58650</th>\n",
       "      <td>00014520_026.png</td>\n",
       "      <td>14520</td>\n",
       "      <td>150</td>\n",
       "    </tr>\n",
       "    <tr>\n",
       "      <th>62929</th>\n",
       "      <td>00015558_000.png</td>\n",
       "      <td>15558</td>\n",
       "      <td>149</td>\n",
       "    </tr>\n",
       "    <tr>\n",
       "      <th>48284</th>\n",
       "      <td>00012238_010.png</td>\n",
       "      <td>12238</td>\n",
       "      <td>148</td>\n",
       "    </tr>\n",
       "    <tr>\n",
       "      <th>55742</th>\n",
       "      <td>00013950_000.png</td>\n",
       "      <td>13950</td>\n",
       "      <td>148</td>\n",
       "    </tr>\n",
       "    <tr>\n",
       "      <th>58464</th>\n",
       "      <td>00014456_000.png</td>\n",
       "      <td>14456</td>\n",
       "      <td>95</td>\n",
       "    </tr>\n",
       "    <tr>\n",
       "      <th>578</th>\n",
       "      <td>00000143_002.png</td>\n",
       "      <td>143</td>\n",
       "      <td>94</td>\n",
       "    </tr>\n",
       "    <tr>\n",
       "      <th>74733</th>\n",
       "      <td>00018359_004.png</td>\n",
       "      <td>18359</td>\n",
       "      <td>94</td>\n",
       "    </tr>\n",
       "    <tr>\n",
       "      <th>74737</th>\n",
       "      <td>00018359_008.png</td>\n",
       "      <td>18359</td>\n",
       "      <td>94</td>\n",
       "    </tr>\n",
       "  </tbody>\n",
       "</table>\n",
       "</div>"
      ],
      "text/plain": [
       "             Image Index  Patient ID  Patient Age\n",
       "46965   00011973_002.png       11973          414\n",
       "86264   00021275_003.png       21275          413\n",
       "91369   00022811_000.png       22811          412\n",
       "85404   00021047_002.png       21047          412\n",
       "20852   00005567_000.png        5567          412\n",
       "84810   00020900_002.png       20900          411\n",
       "101194  00026871_000.png       26871          155\n",
       "104590  00027989_000.png       27989          155\n",
       "98495   00026028_001.png       26028          154\n",
       "95794   00025206_000.png       25206          153\n",
       "74884   00018366_044.png       18366          152\n",
       "78795   00019346_000.png       19346          151\n",
       "58650   00014520_026.png       14520          150\n",
       "62929   00015558_000.png       15558          149\n",
       "48284   00012238_010.png       12238          148\n",
       "55742   00013950_000.png       13950          148\n",
       "58464   00014456_000.png       14456           95\n",
       "578     00000143_002.png         143           94\n",
       "74733   00018359_004.png       18359           94\n",
       "74737   00018359_008.png       18359           94"
      ]
     },
     "execution_count": 12,
     "metadata": {},
     "output_type": "execute_result"
    }
   ],
   "source": [
    "df[['Image Index', 'Patient ID', 'Patient Age']].sort_values('Patient Age', ascending=False).head(20)"
   ]
  },
  {
   "cell_type": "markdown",
   "metadata": {},
   "source": [
    "Liệt kê thông tin các ảnh của một bệnh nhân tuổi bị sai, thấy rằng **Follow-up #** không được gnas theo trình tự thời gian."
   ]
  },
  {
   "cell_type": "code",
   "execution_count": 24,
   "metadata": {},
   "outputs": [
    {
     "data": {
      "text/html": [
       "<div>\n",
       "<style scoped>\n",
       "    .dataframe tbody tr th:only-of-type {\n",
       "        vertical-align: middle;\n",
       "    }\n",
       "\n",
       "    .dataframe tbody tr th {\n",
       "        vertical-align: top;\n",
       "    }\n",
       "\n",
       "    .dataframe thead th {\n",
       "        text-align: right;\n",
       "    }\n",
       "</style>\n",
       "<table border=\"1\" class=\"dataframe\">\n",
       "  <thead>\n",
       "    <tr style=\"text-align: right;\">\n",
       "      <th></th>\n",
       "      <th>Patient Age</th>\n",
       "      <th>Finding Labels</th>\n",
       "      <th>Follow-up #</th>\n",
       "    </tr>\n",
       "  </thead>\n",
       "  <tbody>\n",
       "    <tr>\n",
       "      <th>20852</th>\n",
       "      <td>412</td>\n",
       "      <td>Effusion|Pneumonia</td>\n",
       "      <td>0</td>\n",
       "    </tr>\n",
       "    <tr>\n",
       "      <th>20861</th>\n",
       "      <td>57</td>\n",
       "      <td>No Finding</td>\n",
       "      <td>9</td>\n",
       "    </tr>\n",
       "    <tr>\n",
       "      <th>20859</th>\n",
       "      <td>57</td>\n",
       "      <td>Fibrosis</td>\n",
       "      <td>7</td>\n",
       "    </tr>\n",
       "    <tr>\n",
       "      <th>20860</th>\n",
       "      <td>57</td>\n",
       "      <td>Fibrosis</td>\n",
       "      <td>8</td>\n",
       "    </tr>\n",
       "    <tr>\n",
       "      <th>20856</th>\n",
       "      <td>54</td>\n",
       "      <td>Atelectasis</td>\n",
       "      <td>4</td>\n",
       "    </tr>\n",
       "    <tr>\n",
       "      <th>20857</th>\n",
       "      <td>54</td>\n",
       "      <td>Atelectasis</td>\n",
       "      <td>5</td>\n",
       "    </tr>\n",
       "    <tr>\n",
       "      <th>20858</th>\n",
       "      <td>54</td>\n",
       "      <td>No Finding</td>\n",
       "      <td>6</td>\n",
       "    </tr>\n",
       "    <tr>\n",
       "      <th>20876</th>\n",
       "      <td>53</td>\n",
       "      <td>Atelectasis|Consolidation</td>\n",
       "      <td>24</td>\n",
       "    </tr>\n",
       "    <tr>\n",
       "      <th>20853</th>\n",
       "      <td>53</td>\n",
       "      <td>Effusion</td>\n",
       "      <td>1</td>\n",
       "    </tr>\n",
       "    <tr>\n",
       "      <th>20877</th>\n",
       "      <td>53</td>\n",
       "      <td>Pneumonia</td>\n",
       "      <td>25</td>\n",
       "    </tr>\n",
       "    <tr>\n",
       "      <th>20855</th>\n",
       "      <td>53</td>\n",
       "      <td>Infiltration</td>\n",
       "      <td>3</td>\n",
       "    </tr>\n",
       "    <tr>\n",
       "      <th>20854</th>\n",
       "      <td>53</td>\n",
       "      <td>Atelectasis|Effusion|Pneumonia</td>\n",
       "      <td>2</td>\n",
       "    </tr>\n",
       "    <tr>\n",
       "      <th>20875</th>\n",
       "      <td>52</td>\n",
       "      <td>Atelectasis</td>\n",
       "      <td>23</td>\n",
       "    </tr>\n",
       "    <tr>\n",
       "      <th>20871</th>\n",
       "      <td>51</td>\n",
       "      <td>No Finding</td>\n",
       "      <td>19</td>\n",
       "    </tr>\n",
       "    <tr>\n",
       "      <th>20872</th>\n",
       "      <td>51</td>\n",
       "      <td>Atelectasis</td>\n",
       "      <td>20</td>\n",
       "    </tr>\n",
       "    <tr>\n",
       "      <th>20873</th>\n",
       "      <td>51</td>\n",
       "      <td>No Finding</td>\n",
       "      <td>21</td>\n",
       "    </tr>\n",
       "    <tr>\n",
       "      <th>20874</th>\n",
       "      <td>51</td>\n",
       "      <td>No Finding</td>\n",
       "      <td>22</td>\n",
       "    </tr>\n",
       "    <tr>\n",
       "      <th>20869</th>\n",
       "      <td>50</td>\n",
       "      <td>Pneumonia</td>\n",
       "      <td>17</td>\n",
       "    </tr>\n",
       "    <tr>\n",
       "      <th>20870</th>\n",
       "      <td>50</td>\n",
       "      <td>No Finding</td>\n",
       "      <td>18</td>\n",
       "    </tr>\n",
       "    <tr>\n",
       "      <th>20867</th>\n",
       "      <td>49</td>\n",
       "      <td>No Finding</td>\n",
       "      <td>15</td>\n",
       "    </tr>\n",
       "    <tr>\n",
       "      <th>20868</th>\n",
       "      <td>49</td>\n",
       "      <td>Emphysema|Pneumonia</td>\n",
       "      <td>16</td>\n",
       "    </tr>\n",
       "    <tr>\n",
       "      <th>20864</th>\n",
       "      <td>48</td>\n",
       "      <td>No Finding</td>\n",
       "      <td>12</td>\n",
       "    </tr>\n",
       "    <tr>\n",
       "      <th>20866</th>\n",
       "      <td>48</td>\n",
       "      <td>Atelectasis|Infiltration</td>\n",
       "      <td>14</td>\n",
       "    </tr>\n",
       "    <tr>\n",
       "      <th>20865</th>\n",
       "      <td>48</td>\n",
       "      <td>Atelectasis</td>\n",
       "      <td>13</td>\n",
       "    </tr>\n",
       "    <tr>\n",
       "      <th>20863</th>\n",
       "      <td>47</td>\n",
       "      <td>No Finding</td>\n",
       "      <td>11</td>\n",
       "    </tr>\n",
       "    <tr>\n",
       "      <th>20862</th>\n",
       "      <td>44</td>\n",
       "      <td>No Finding</td>\n",
       "      <td>10</td>\n",
       "    </tr>\n",
       "  </tbody>\n",
       "</table>\n",
       "</div>"
      ],
      "text/plain": [
       "       Patient Age                  Finding Labels  Follow-up #\n",
       "20852          412              Effusion|Pneumonia            0\n",
       "20861           57                      No Finding            9\n",
       "20859           57                        Fibrosis            7\n",
       "20860           57                        Fibrosis            8\n",
       "20856           54                     Atelectasis            4\n",
       "20857           54                     Atelectasis            5\n",
       "20858           54                      No Finding            6\n",
       "20876           53       Atelectasis|Consolidation           24\n",
       "20853           53                        Effusion            1\n",
       "20877           53                       Pneumonia           25\n",
       "20855           53                    Infiltration            3\n",
       "20854           53  Atelectasis|Effusion|Pneumonia            2\n",
       "20875           52                     Atelectasis           23\n",
       "20871           51                      No Finding           19\n",
       "20872           51                     Atelectasis           20\n",
       "20873           51                      No Finding           21\n",
       "20874           51                      No Finding           22\n",
       "20869           50                       Pneumonia           17\n",
       "20870           50                      No Finding           18\n",
       "20867           49                      No Finding           15\n",
       "20868           49             Emphysema|Pneumonia           16\n",
       "20864           48                      No Finding           12\n",
       "20866           48        Atelectasis|Infiltration           14\n",
       "20865           48                     Atelectasis           13\n",
       "20863           47                      No Finding           11\n",
       "20862           44                      No Finding           10"
      ]
     },
     "execution_count": 24,
     "metadata": {},
     "output_type": "execute_result"
    }
   ],
   "source": [
    "df.loc[df['Patient ID']==5567,['Patient Age','Finding Labels','Follow-up #']].sort_values('Patient Age',ascending=False)"
   ]
  },
  {
   "cell_type": "markdown",
   "metadata": {},
   "source": [
    "**Phân bố bệnh lý theo giới tính**"
   ]
  },
  {
   "cell_type": "code",
   "execution_count": 31,
   "metadata": {
    "scrolled": true
   },
   "outputs": [
    {
     "data": {
      "image/png": "[encoded data removed]",
      "text/plain": [
       "<Figure size 648x432 with 1 Axes>"
      ]
     },
     "metadata": {
      "needs_background": "light"
     },
     "output_type": "display_data"
    }
   ],
   "source": [
    "plt.figure(figsize=(9,6))\n",
    "gs = gridspec.GridSpec(8,1)\n",
    "ax1 = plt.subplot(gs[:7, :])\n",
    "data1 = pd.melt(df,\n",
    "             id_vars=['Patient Gender'],\n",
    "             value_vars = list(pathology_list),\n",
    "             var_name = 'Category',\n",
    "             value_name = 'Count')\n",
    "data1 = data1.loc[data1.Count>0]\n",
    "g=sns.countplot(y='Category',hue='Patient Gender',data=data1, ax=ax1, order = data1['Category'].value_counts().index)\n",
    "ax1.set( ylabel=\"\",xlabel=\"Số lượng ảnh\")\n",
    "ax1.legend(fontsize=15)\n",
    "ax1.set_title('Phân bố bệnh lý theo giới tính',fontsize=15);\n"
   ]
  },
  {
   "cell_type": "markdown",
   "metadata": {},
   "source": [
    "**Phân bố bệnh lý**  \n",
    "Phân bố bệnh lý trong dataset cho thấy đây là một **imbalanced dataset**. \n",
    "* Số lượng ảnh không chứa bệnh **\"No finding\" chiếm hơn 1/2** so với số ảnh chứa bệnh.  \n",
    "* Mặc khác, các ảnh có bệnh cũng phân bố không đồng đều. Ví dụ như chỉ có **227** trường hợp mắc bệnh heria trong khi có đến **19894** trường hợp mắc bệnh infiltration."
   ]
  },
  {
   "cell_type": "code",
   "execution_count": 32,
   "metadata": {},
   "outputs": [
    {
     "data": {
      "image/png": "[encoded data removed]",
      "text/plain": [
       "<Figure size 1080x720 with 1 Axes>"
      ]
     },
     "metadata": {
      "needs_background": "light"
     },
     "output_type": "display_data"
    }
   ],
   "source": [
    "plt.figure(figsize=(15,10))\n",
    "gs = gridspec.GridSpec(8,1)\n",
    "ax2 = plt.subplot(gs[:7, :])\n",
    "data1_count = data1['Category'].value_counts()\n",
    "g=sns.countplot(y='Category',data=data1,ax=ax2, order = data1['Category'].value_counts().index)\n",
    "ax2.set( ylabel=\"\",xlabel=\"Số lượng ảnh\")\n",
    "ax2.set_title('Phân bố bệnh lý',fontsize=15);\n",
    "for i, v in enumerate(data1_count):\n",
    "    ax2.text(v + 3, i + .25, str(v), color='black', fontweight='bold')\n",
    "plt.subplots_adjust(hspace=.5)"
   ]
  },
  {
   "cell_type": "code",
   "execution_count": 35,
   "metadata": {},
   "outputs": [],
   "source": [
    "data=df.groupby('Finding Labels').count().sort_values('Patient ID',ascending=False)\n",
    "df1=data[['|' in index for index in data.index]].copy()\n",
    "df2=data[['|' not in index for index in data.index]]\n",
    "df2=df2[['No Finding' not in index for index in df2.index]]\n",
    "df2['Finding Labels']=df2.index.values\n",
    "df1['Finding Labels']=df1.index.values"
   ]
  },
  {
   "cell_type": "markdown",
   "metadata": {},
   "source": [
    "Một ảnh có thể có một hoặc nhiều bệnh."
   ]
  },
  {
   "cell_type": "code",
   "execution_count": 40,
   "metadata": {},
   "outputs": [
    {
     "data": {
      "image/png": "[encoded data removed]",
      "text/plain": [
       "<Figure size 864x576 with 1 Axes>"
      ]
     },
     "metadata": {
      "needs_background": "light"
     },
     "output_type": "display_data"
    }
   ],
   "source": [
    "f, ax = plt.subplots(sharex=True,figsize=(12, 8))\n",
    "sns.set_color_codes(\"pastel\")\n",
    "g=sns.countplot(y='Category',data=data1, ax=ax, order = data1['Category'].value_counts().index[1:],color='b',label=\"Nhiều bệnh\")\n",
    "sns.set_color_codes(\"muted\")\n",
    "g=sns.barplot(x='Patient ID',y='Finding Labels',data=df2, ax=ax, color=\"b\",label=\"Một bệnh\")\n",
    "ax.legend(ncol=2, loc=\"lower right\", frameon=True,fontsize=15)\n",
    "ax.set( ylabel=\"\",xlabel=\"Số lượng ảnh\")\n",
    "ax.set_title(\"Tương quan giữa số lượng ảnh chứa một bệnh và nhiều bệnh\",fontsize=15)      \n",
    "sns.despine(left=True)"
   ]
  },
  {
   "cell_type": "markdown",
   "metadata": {},
   "source": [
    "Bên dưới là biểu đồ tròn thể hiện sự tương quan giữa các bệnh trong dataset.  \n",
    "Một số cặp bệnh thường xuyên xuất hiện cùng nhau:\n",
    "* Infiltration - Effusion\n",
    "* Infiltration - Atelectasis\n",
    "* Infiltraiton - Nodule\n",
    "* Infiltration - Consolidation\n",
    "* Effusion - Atelectasis\n",
    "* Effusion - Mass\n",
    "* Atelectasis - Consolidation"
   ]
  },
  {
   "cell_type": "markdown",
   "metadata": {},
   "source": [
    "![alt](pie-chart.jpg)"
   ]
  },
  {
   "cell_type": "code",
   "execution_count": null,
   "metadata": {},
   "outputs": [],
   "source": []
  }
 ],
 "metadata": {
  "kernelspec": {
   "display_name": "Python 3",
   "language": "python",
   "name": "python3"
  },
  "language_info": {
   "codemirror_mode": {
    "name": "ipython",
    "version": 3
   },
   "file_extension": ".py",
   "mimetype": "text/x-python",
   "name": "python",
   "nbconvert_exporter": "python",
   "pygments_lexer": "ipython3",
   "version": "3.6.8"
  }
 },
 "nbformat": 4,
 "nbformat_minor": 2
}
